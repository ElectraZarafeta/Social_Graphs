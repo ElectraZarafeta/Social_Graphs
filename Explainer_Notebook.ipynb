{
 "cells": [
  {
   "cell_type": "markdown",
   "metadata": {},
   "source": [
    "#### DTU - 02805 Social graphs and interactions (2020) - Assignment B\n",
    "\n",
    "## 2020 US Representatives and Senators Twitter Analysis\n",
    "\n",
    "#### by Electra Zarafeta (s202238), Idriss El Quassimi (s), Asterios Nastas (s)\n",
    "\n"
   ]
  },
  {
   "cell_type": "markdown",
   "metadata": {},
   "source": [
    "## 1. Motivation\n",
    "\n",
    "The aim of this analysis is to investigate the interactions between congress members on twitter, which is a social media that politicians seem to love using to dicsuss, be presented and influence. We will be able to understand how the two parties, Republicans and Democrats, use twitter in order to promote their political work, insights regarding the political rally and investigate the main issues discussed during the elections. Do they focus on citizens' problems? How influential are they? Are they strong members of any community? How do they interbehave towards other congressmen, are they supporting their political allies, criticizing the other side or following their leader? We believe that it will be very interesting to analyze the above from a data scientist's prespective.\n",
    "\n",
    "* **The dataset** \n",
    "\n",
    "    The dataset we used contains the US House Representatives and Senators of 2020, their party, their Twitter account, the state and their Tweets in a specific period of time (including US election). In order to download the dataset we used the list of the congress people [1] and based on that we used the Twitter API to download all the required data, like Tweets, to continue with our analysis.\n",
    "    \n",
    "* Why did you choose this/these particular dataset(s)? ---> **Our vision**\n",
    "* What was your goal for the end user's experience? ---> **Our goal**"
   ]
  },
  {
   "cell_type": "markdown",
   "metadata": {},
   "source": [
    "## 2. Basic Stats\n",
    "\n",
    "This section includes information about cleaning and preprocessing of the data as well as a short section exploring the basic stats of the datasets.\n",
    "\n",
    "### 2.0 Load Modules\n",
    "\n",
    "Firstly, each needed module is loaded."
   ]
  },
  {
   "cell_type": "code",
   "execution_count": 1,
   "metadata": {},
   "outputs": [],
   "source": [
    "import nltk\n",
    "from nltk.stem import WordNetLemmatizer\n",
    "import matplotlib.pyplot as plt\n",
    "import string\n",
    "import numpy as np\n",
    "from PIL import Image\n",
    "from wordcloud import WordCloud, ImageColorGenerator\n",
    "import operator\n",
    "import pandas as pd\n",
    "import regex as re\n",
    "import seaborn as sns\n",
    "import networkx as nx\n",
    "from fa2 import ForceAtlas2\n",
    "from community import community_louvain"
   ]
  },
  {
   "cell_type": "markdown",
   "metadata": {},
   "source": [
    "### 2.1 Twitter Scrapping\n",
    "\n",
    "\n",
    "https://github.com/ElectraZarafeta/Social_Graphs/blob/master/scrap.py"
   ]
  },
  {
   "cell_type": "code",
   "execution_count": null,
   "metadata": {},
   "outputs": [],
   "source": []
  },
  {
   "cell_type": "markdown",
   "metadata": {},
   "source": [
    "#### References: \n",
    "[1] https://triagecancer.org/congressional-social-media"
   ]
  },
  {
   "cell_type": "code",
   "execution_count": null,
   "metadata": {},
   "outputs": [],
   "source": []
  }
 ],
 "metadata": {
  "kernelspec": {
   "display_name": "Python 3",
   "language": "python",
   "name": "python3"
  },
  "language_info": {
   "codemirror_mode": {
    "name": "ipython",
    "version": 3
   },
   "file_extension": ".py",
   "mimetype": "text/x-python",
   "name": "python",
   "nbconvert_exporter": "python",
   "pygments_lexer": "ipython3",
   "version": "3.8.3"
  }
 },
 "nbformat": 4,
 "nbformat_minor": 4
}
